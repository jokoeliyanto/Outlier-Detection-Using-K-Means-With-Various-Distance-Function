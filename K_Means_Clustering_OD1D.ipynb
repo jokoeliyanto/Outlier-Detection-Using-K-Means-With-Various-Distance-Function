{
  "nbformat": 4,
  "nbformat_minor": 0,
  "metadata": {
    "colab": {
      "name": "K_Means_Clustering_OD1D.ipynb",
      "provenance": [],
      "collapsed_sections": [],
      "authorship_tag": "ABX9TyNBzrzraNsinQNjI/roSqPB",
      "include_colab_link": true
    },
    "kernelspec": {
      "name": "python3",
      "display_name": "Python 3"
    },
    "language_info": {
      "name": "python"
    }
  },
  "cells": [
    {
      "cell_type": "markdown",
      "metadata": {
        "id": "view-in-github",
        "colab_type": "text"
      },
      "source": [
        "<a href=\"https://colab.research.google.com/github/jokoeliyanto/Outlier-Detection-Using-K-Means-With-Various-Distance-Function/blob/main/K_Means_Clustering_OD1D.ipynb\" target=\"_parent\"><img src=\"https://colab.research.google.com/assets/colab-badge.svg\" alt=\"Open In Colab\"/></a>"
      ]
    },
    {
      "cell_type": "markdown",
      "metadata": {
        "id": "zOU_Tt2Q8LLb"
      },
      "source": [
        "# Membuat Data Dengan Outlier"
      ]
    },
    {
      "cell_type": "code",
      "metadata": {
        "id": "FOq2a89hfQpe"
      },
      "source": [
        "import matplotlib.pyplot as plt\n",
        "import numpy as np\n",
        "import pandas as pd\n",
        "import scipy.stats as stats\n",
        "%matplotlib inline"
      ],
      "execution_count": 38,
      "outputs": []
    },
    {
      "cell_type": "code",
      "metadata": {
        "id": "kbMY8604fYwa"
      },
      "source": [
        "y = np.random.random(100)\n",
        "x = np.arange(len(y))"
      ],
      "execution_count": 39,
      "outputs": []
    },
    {
      "cell_type": "code",
      "metadata": {
        "colab": {
          "base_uri": "https://localhost:8080/"
        },
        "id": "elPO_3reff99",
        "outputId": "c41e1293-a5d2-4a31-a832-498bdf610250"
      },
      "source": [
        "y"
      ],
      "execution_count": 40,
      "outputs": [
        {
          "output_type": "execute_result",
          "data": {
            "text/plain": [
              "array([0.01595964, 0.2843838 , 0.21515512, 0.10112558, 0.89947351,\n",
              "       0.91124242, 0.97502926, 0.30115814, 0.94383716, 0.82655422,\n",
              "       0.28458338, 0.04781916, 0.88209261, 0.2289164 , 0.5858861 ,\n",
              "       0.20561707, 0.12948355, 0.95108336, 0.47066261, 0.52897372,\n",
              "       0.71816092, 0.98642056, 0.36507315, 0.77230867, 0.26655416,\n",
              "       0.50847669, 0.22635061, 0.66869547, 0.13731065, 0.28360914,\n",
              "       0.86464243, 0.84759749, 0.451659  , 0.89390292, 0.47814332,\n",
              "       0.10298178, 0.32045813, 0.0529586 , 0.25725296, 0.02807813,\n",
              "       0.3631277 , 0.11673136, 0.35344094, 0.73135886, 0.98365618,\n",
              "       0.09303613, 0.45256647, 0.95584377, 0.94651723, 0.88483905,\n",
              "       0.80308723, 0.74847813, 0.24250413, 0.21946897, 0.94029914,\n",
              "       0.92764805, 0.6154105 , 0.02769519, 0.54637572, 0.75669465,\n",
              "       0.81081753, 0.96493053, 0.51717878, 0.13501177, 0.27256336,\n",
              "       0.96853715, 0.7994936 , 0.23332019, 0.87191627, 0.93902162,\n",
              "       0.33780547, 0.97867032, 0.60554528, 0.01424406, 0.13237494,\n",
              "       0.21279925, 0.19494144, 0.69337701, 0.22565118, 0.01648139,\n",
              "       0.72275787, 0.14568499, 0.68955039, 0.49727284, 0.74961719,\n",
              "       0.16415353, 0.95901782, 0.05003076, 0.81970993, 0.00381575,\n",
              "       0.01023172, 0.2625317 , 0.76735111, 0.37042091, 0.97902976,\n",
              "       0.5012292 , 0.89275629, 0.75788589, 0.12387778, 0.75073107])"
            ]
          },
          "metadata": {
            "tags": []
          },
          "execution_count": 40
        }
      ]
    },
    {
      "cell_type": "code",
      "metadata": {
        "id": "TYAN-3vXoTVk"
      },
      "source": [
        "y[90] = 3\n",
        "y[70] = 2\n",
        "y[80] = 3\n",
        "y[60] = 2"
      ],
      "execution_count": 61,
      "outputs": []
    },
    {
      "cell_type": "code",
      "metadata": {
        "colab": {
          "base_uri": "https://localhost:8080/",
          "height": 283
        },
        "id": "105PgRDEg3WL",
        "outputId": "24b01150-726d-4c1f-f192-331ead925889"
      },
      "source": [
        "plt.scatter(x,y)"
      ],
      "execution_count": 63,
      "outputs": [
        {
          "output_type": "execute_result",
          "data": {
            "text/plain": [
              "<matplotlib.collections.PathCollection at 0x7f4fcf622e90>"
            ]
          },
          "metadata": {
            "tags": []
          },
          "execution_count": 63
        },
        {
          "output_type": "display_data",
          "data": {
            "image/png": "[encoded data removed]",
            "text/plain": [
              "<Figure size 432x288 with 1 Axes>"
            ]
          },
          "metadata": {
            "tags": [],
            "needs_background": "light"
          }
        }
      ]
    },
    {
      "cell_type": "markdown",
      "metadata": {
        "id": "jM4sNIJt8USa"
      },
      "source": [
        "# Deteksi Outlier"
      ]
    },
    {
      "cell_type": "markdown",
      "metadata": {
        "id": "I7rgH1Fm8Xcj"
      },
      "source": [
        "## K-Means Euclid"
      ]
    },
    {
      "cell_type": "code",
      "metadata": {
        "colab": {
          "base_uri": "https://localhost:8080/"
        },
        "id": "DJIVLD8-g8h-",
        "outputId": "eba03c40-b462-40e8-974d-599fe9b654f1"
      },
      "source": [
        "def pusat_klaster_awal(y):\n",
        "    n=len(y)\n",
        "    list_1=np.arange(0,n)\n",
        "    pusat_klaster_index = random.choices(list_1)\n",
        "    pusat_klaster=y[pusat_klaster_index]\n",
        "    return (pusat_klaster)\n",
        "\n",
        "pusat_klaster_0=pusat_klaster_awal(y)\n",
        "pusat_klaster_0"
      ],
      "execution_count": 64,
      "outputs": [
        {
          "output_type": "execute_result",
          "data": {
            "text/plain": [
              "array([0.88483905])"
            ]
          },
          "metadata": {
            "tags": []
          },
          "execution_count": 64
        }
      ]
    },
    {
      "cell_type": "code",
      "metadata": {
        "colab": {
          "base_uri": "https://localhost:8080/"
        },
        "id": "OTydVSsujFv6",
        "outputId": "e13e10a3-6469-4dd6-bd03-0dd8194a8c11"
      },
      "source": [
        "def jarak_euclidean(x,y):\n",
        "  return np.sqrt(sum(pow(a-b, 2) for a, b in zip(x,y)))\n",
        "\n",
        "print(jarak_euclidean([0], [7]))"
      ],
      "execution_count": 65,
      "outputs": [
        {
          "output_type": "stream",
          "text": [
            "7.0\n"
          ],
          "name": "stdout"
        }
      ]
    },
    {
      "cell_type": "code",
      "metadata": {
        "colab": {
          "base_uri": "https://localhost:8080/"
        },
        "id": "0Ql7UZi7jkmt",
        "outputId": "c26da1b6-b066-4d15-eb81-fbca18883bb9"
      },
      "source": [
        "def jarak_centroid_euclidean(y,pusat_klaster):\n",
        "  n=len(y)\n",
        "  jarak=[]\n",
        "  for i in range(n):\n",
        "    x = y[i]\n",
        "    jrk = float(jarak_euclidean([x], [pusat_klaster]))\n",
        "    jarak.append(jrk)\n",
        "  return jarak\n",
        "jc=jarak_centroid_euclidean(y,pusat_klaster_0)\n",
        "print(jc)"
      ],
      "execution_count": 66,
      "outputs": [
        {
          "output_type": "stream",
          "text": [
            "[0.8688794089780619, 0.6004552476334158, 0.6696839226301535, 0.7837134663284513, 0.01463446477209518, 0.02640337203594656, 0.0901902174095559, 0.5836809088217884, 0.05899811135289457, 0.05828482568238391, 0.6002556714074524, 0.8370198891432861, 0.002746435009165049, 0.6559226506920386, 0.2989529493609473, 0.6792219813342204, 0.7553554923635807, 0.06624431143897447, 0.4141764337788647, 0.3558653265377917, 0.16667812801083137, 0.10158151523906966, 0.5197658960400197, 0.11253038138708116, 0.6182848886358824, 0.3763623605217602, 0.658488435647081, 0.21614358054332183, 0.7475283968925016, 0.6012299082108885, 0.020196614852277195, 0.037241558139257336, 0.4331800481810898, 0.009063875521047704, 0.40669573157876904, 0.7818572683104625, 0.5643809195029476, 0.8318804500505322, 0.6275860893665478, 0.8567609216679336, 0.5217113444167841, 0.7681076884753715, 0.5313981097356286, 0.153480191424186, 0.0988171370486558, 0.7918029169599081, 0.43227257499360294, 0.07100472518727119, 0.061678186678508995, 0.0, 0.08175182102007927, 0.13636091579177345, 0.6423349119949782, 0.6653700809862648, 0.055460091600993966, 0.0428090062544344, 0.2694285450870686, 0.8571438561246348, 0.3384633244332602, 0.12814440018998718, 1.1151609530388533, 0.08009148167693092, 0.3676602695579252, 0.7498272728395005, 0.6122756905584016, 0.0836981078400093, 0.08534544627700058, 0.651518855895259, 0.012922775546033383, 0.054182572331420875, 1.1151609530388533, 0.09383127243781597, 0.279293770327644, 0.8705949859348544, 0.7524641092301707, 0.6720397924663397, 0.689897610635728, 0.191462038641402, 0.6591878695594459, 0.8683576601265951, 2.1151609530388535, 0.7391540609664656, 0.1952886564995967, 0.38756620890564353, 0.13522185978209955, 0.7206855198716628, 0.07417877234945858, 0.8348082878278898, 0.06512911890096984, 0.8810233005545921, 2.1151609530388535, 0.6223073451356352, 0.11748793335609964, 0.5144181330927582, 0.0941907113675714, 0.38360984363485506, 0.007917239742066373, 0.12695315322310796, 0.7609612703736501, 0.1341079794111255]\n"
          ],
          "name": "stdout"
        }
      ]
    },
    {
      "cell_type": "code",
      "metadata": {
        "colab": {
          "base_uri": "https://localhost:8080/"
        },
        "id": "ofIFgQQrkR5T",
        "outputId": "6c48e052-d118-41ad-c8e8-9970c49b8d86"
      },
      "source": [
        "def menghitung_pusat_klaster(y):\n",
        "    pusat_klaster_baru=sum(y) / len(y)\n",
        "    return pusat_klaster_baru\n",
        "\n",
        "pusat_klaster_1=menghitung_pusat_klaster(y)\n",
        "pusat_klaster_1"
      ],
      "execution_count": 67,
      "outputs": [
        {
          "output_type": "execute_result",
          "data": {
            "text/plain": [
              "0.5898917599254802"
            ]
          },
          "metadata": {
            "tags": []
          },
          "execution_count": 67
        }
      ]
    },
    {
      "cell_type": "code",
      "metadata": {
        "colab": {
          "base_uri": "https://localhost:8080/"
        },
        "id": "GyvAxF2CmRtg",
        "outputId": "19aceff6-1646-4af3-a13e-00f2741eccd6"
      },
      "source": [
        "jarak=jarak_centroid_euclidean(y,pusat_klaster_1)\n",
        "#print(jarak)\n",
        "dict1={\"data\":y, \"jarak\":jarak}\n",
        "df=pd.DataFrame(dict1)\n",
        "id1=df['jarak'].idxmax()\n",
        "id2=df['jarak'].idxmin()\n",
        "th=(jarak[id1]-jarak[id2])/2\n",
        "odf=df[df.jarak>=th]\n",
        "outlier=odf.iloc[0,0]\n",
        "outlier"
      ],
      "execution_count": 71,
      "outputs": [
        {
          "output_type": "execute_result",
          "data": {
            "text/plain": [
              "2.0"
            ]
          },
          "metadata": {
            "tags": []
          },
          "execution_count": 71
        }
      ]
    },
    {
      "cell_type": "code",
      "metadata": {
        "colab": {
          "base_uri": "https://localhost:8080/"
        },
        "id": "TCWgxOOBlbKJ",
        "outputId": "4e70395d-8ade-44bc-9ece-804e406bee89"
      },
      "source": [
        "def outlier_KM_1D(y, pusat_klaster):\n",
        "  jarak=jarak_centroid_euclidean(y,pusat_klaster)\n",
        "  dict1={\"data\":y, \"jarak\":jarak}\n",
        "  df=pd.DataFrame(dict1)\n",
        "  id1=df['jarak'].idxmax()\n",
        "  id2=df['jarak'].idxmin()\n",
        "  th=(jarak[id1]-jarak[id2])/2\n",
        "  odf=df[df.jarak>=th]\n",
        "  outlier=odf.iloc[::,0]\n",
        "  return outlier\n",
        "\n",
        "outlier=outlier_KM_1D(y, pusat_klaster_1)\n",
        "outlier"
      ],
      "execution_count": 72,
      "outputs": [
        {
          "output_type": "execute_result",
          "data": {
            "text/plain": [
              "60    2.0\n",
              "70    2.0\n",
              "80    3.0\n",
              "90    3.0\n",
              "Name: data, dtype: float64"
            ]
          },
          "metadata": {
            "tags": []
          },
          "execution_count": 72
        }
      ]
    },
    {
      "cell_type": "code",
      "metadata": {
        "id": "zaomF9IgoZhP"
      },
      "source": [
        "def K_Means_OD_Euc(y):\n",
        "  pusat_klaster_0=pusat_klaster_awal(y)\n",
        "  jc=jarak_centroid_euclidean(y,pusat_klaster_0)\n",
        "  pusat_klaster_1=menghitung_pusat_klaster(y)\n",
        "  outlier=outlier_KM_1D(y, pusat_klaster_1)\n",
        "  return outlier"
      ],
      "execution_count": 73,
      "outputs": []
    },
    {
      "cell_type": "code",
      "metadata": {
        "colab": {
          "base_uri": "https://localhost:8080/"
        },
        "id": "OeHkWrSQp6J9",
        "outputId": "c1a6f51f-ce0d-4f3d-f95c-ead718e54443"
      },
      "source": [
        "K_Means_OD_Euc(y)"
      ],
      "execution_count": 74,
      "outputs": [
        {
          "output_type": "execute_result",
          "data": {
            "text/plain": [
              "60    2.0\n",
              "70    2.0\n",
              "80    3.0\n",
              "90    3.0\n",
              "Name: data, dtype: float64"
            ]
          },
          "metadata": {
            "tags": []
          },
          "execution_count": 74
        }
      ]
    },
    {
      "cell_type": "markdown",
      "metadata": {
        "id": "OEptObJF8dZN"
      },
      "source": [
        "## ESD Test\n",
        "https://www.youtube.com/watch?v=KGWbbAUcC0I"
      ]
    },
    {
      "cell_type": "code",
      "metadata": {
        "id": "ISZZegvdqsnS"
      },
      "source": [
        "def grubbs_stat(y):\n",
        "    std_dev = np.std(y)\n",
        "    avg_y = np.mean(y)\n",
        "    abs_val_minus_avg = abs(y - avg_y)\n",
        "    max_of_deviations = max(abs_val_minus_avg)\n",
        "    max_ind = np.argmax(abs_val_minus_avg)\n",
        "    Gcal = max_of_deviations/ std_dev\n",
        "    print(\"Grubbs Statistics Value : {}\".format(Gcal))\n",
        "    return Gcal, max_ind"
      ],
      "execution_count": 75,
      "outputs": []
    },
    {
      "cell_type": "code",
      "metadata": {
        "id": "TzbUsegkqyDW"
      },
      "source": [
        "def calculate_critical_value(size, alpha):\n",
        "    t_dist = stats.t.ppf(1 - alpha / (2 * size), size - 2)\n",
        "    numerator = (size - 1) * np.sqrt(np.square(t_dist))\n",
        "    denominator = np.sqrt(size) * np.sqrt(size - 2 + np.square(t_dist))\n",
        "    critical_value = numerator / denominator\n",
        "    print(\"Grubbs Critical Value: {}\".format(critical_value))\n",
        "    return critical_value"
      ],
      "execution_count": 76,
      "outputs": []
    },
    {
      "cell_type": "code",
      "metadata": {
        "id": "5-5bhNTmq0a9"
      },
      "source": [
        "def check_G_values(Gs, Gc, inp, max_index):\n",
        "    if Gs > Gc:\n",
        "        print('{} is an outlier. G > G-critical: {:.4f} > {:.4f} \\n'.format(inp[max_index], Gs, Gc))\n",
        "    else:\n",
        "        print('{} is not an outlier. G > G-critical: {:.4f} > {:.4f} \\n'.format(inp[max_index], Gs, Gc))"
      ],
      "execution_count": 77,
      "outputs": []
    },
    {
      "cell_type": "code",
      "metadata": {
        "id": "k0u8S7eeq3Wx"
      },
      "source": [
        "def ESD_Test(input_series, alpha, max_outliers):\n",
        "    for iterations in range(max_outliers):\n",
        "        Gcritical = calculate_critical_value(len(input_series), alpha)\n",
        "        Gstat, max_index = grubbs_stat(input_series)\n",
        "        check_G_values(Gstat, Gcritical, input_series, max_index)\n",
        "        input_series = np.delete(input_series, max_index)"
      ],
      "execution_count": 78,
      "outputs": []
    },
    {
      "cell_type": "code",
      "metadata": {
        "colab": {
          "base_uri": "https://localhost:8080/"
        },
        "id": "fCw92dx1q5RV",
        "outputId": "b86b494c-7b58-422b-b13c-4fafd45725a9"
      },
      "source": [
        "ESD_Test(y, 0.05, 4)"
      ],
      "execution_count": 80,
      "outputs": [
        {
          "output_type": "stream",
          "text": [
            "Grubbs Critical Value: 3.384082902288351\n",
            "Grubbs Statistics Value : 4.669987516068832\n",
            "3.0 is an outlier. G > G-critical: 4.6700 > 3.3841 \n",
            "\n",
            "Grubbs Critical Value: 3.380650508067058\n",
            "Grubbs Statistics Value : 5.31534889701734\n",
            "3.0 is an outlier. G > G-critical: 5.3153 > 3.3807 \n",
            "\n",
            "Grubbs Critical Value: 3.377175980782947\n",
            "Grubbs Statistics Value : 3.757671089985892\n",
            "2.0 is an outlier. G > G-critical: 3.7577 > 3.3772 \n",
            "\n",
            "Grubbs Critical Value: 3.3736583400522497\n",
            "Grubbs Statistics Value : 4.086082878675749\n",
            "2.0 is an outlier. G > G-critical: 4.0861 > 3.3737 \n",
            "\n"
          ],
          "name": "stdout"
        }
      ]
    },
    {
      "cell_type": "markdown",
      "metadata": {
        "id": "B76zCZPV8gG8"
      },
      "source": [
        "## IQR"
      ]
    },
    {
      "cell_type": "markdown",
      "metadata": {
        "id": "4ojSrRh08h1S"
      },
      "source": [
        "https://medium.com/@prashant.nair2050/hands-on-outlier-detection-and-treatment-in-python-using-1-5-iqr-rule-f9ff1961a414"
      ]
    },
    {
      "cell_type": "code",
      "metadata": {
        "id": "N56S5wIE0CS0"
      },
      "source": [
        "def outlier_treatment(datacolumn):\n",
        " sorted(datacolumn)\n",
        " Q1,Q3 = np.percentile(datacolumn , [25,75])\n",
        " IQR = Q3 - Q1\n",
        " lower_range = Q1 - (1.5 * IQR)\n",
        " upper_range = Q3 + (1.5 * IQR)\n",
        " return lower_range,upper_range"
      ],
      "execution_count": 82,
      "outputs": []
    },
    {
      "cell_type": "code",
      "metadata": {
        "id": "FuNY5ZSE7X_z"
      },
      "source": [
        "lowerbound,upperbound = outlier_treatment(y)"
      ],
      "execution_count": 83,
      "outputs": []
    },
    {
      "cell_type": "code",
      "metadata": {
        "colab": {
          "base_uri": "https://localhost:8080/"
        },
        "id": "4Oaqu-I57cuh",
        "outputId": "0d82c2d3-d1ff-45a4-8826-480b10190357"
      },
      "source": [
        "outlier_IQR=y[(y < lowerbound) | (y > upperbound )]\n",
        "outlier_IQR"
      ],
      "execution_count": 87,
      "outputs": [
        {
          "output_type": "execute_result",
          "data": {
            "text/plain": [
              "array([2., 2., 3., 3.])"
            ]
          },
          "metadata": {
            "tags": []
          },
          "execution_count": 87
        }
      ]
    }
  ]
}